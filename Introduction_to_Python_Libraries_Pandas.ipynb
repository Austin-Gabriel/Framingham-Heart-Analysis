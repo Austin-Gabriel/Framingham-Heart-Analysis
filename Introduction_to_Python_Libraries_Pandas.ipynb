{
 "cells": [
  {
   "cell_type": "markdown",
   "metadata": {},
   "source": [
    "## Introduction to Python libaries- Pandas \n"
   ]
  },
  {
   "cell_type": "markdown",
   "metadata": {},
   "source": [
    "#### PYTHON PANDAS\n",
    "\n",
    "This is a multidimensional data structures and analysis tool for manipulating numerical \n",
    "\n",
    ">Note: Rows represent **observations** while columns represent **input features**\n",
    "\n",
    "**Pandas Data Type**\n",
    "\n",
    "Recognised pandas data type includes:\n",
    "\n",
    "* **object:**     To represent text\n",
    "* **int64:**      Integer values\n",
    "* **float64:**    Floating point numbers\n",
    "* **Category:**   List of text values\n",
    "* **bool:**       True or false values\n",
    "* **datetime64:** Date and time values\n",
    "* **timedelta:**  Difference between two datetimes"
   ]
  },
  {
   "cell_type": "code",
   "execution_count": 1,
   "metadata": {},
   "outputs": [
    {
     "name": "stderr",
     "output_type": "stream",
     "text": [
      "C:\\Users\\ibuku\\Anaconda3\\lib\\site-packages\\pandas\\compat\\_optional.py:138: UserWarning: Pandas requires version '2.7.0' or newer of 'numexpr' (version '2.6.9' currently installed).\n",
      "  warnings.warn(msg, UserWarning)\n"
     ]
    }
   ],
   "source": [
    "import numpy as np\n",
    "import pandas as pd"
   ]
  },
  {
   "cell_type": "markdown",
   "metadata": {},
   "source": [
    "Ways to create pandas dataframe"
   ]
  },
  {
   "cell_type": "code",
   "execution_count": 30,
   "metadata": {},
   "outputs": [
    {
     "data": {
      "text/html": [
       "<div>\n",
       "<style scoped>\n",
       "    .dataframe tbody tr th:only-of-type {\n",
       "        vertical-align: middle;\n",
       "    }\n",
       "\n",
       "    .dataframe tbody tr th {\n",
       "        vertical-align: top;\n",
       "    }\n",
       "\n",
       "    .dataframe thead th {\n",
       "        text-align: right;\n",
       "    }\n",
       "</style>\n",
       "<table border=\"1\" class=\"dataframe\">\n",
       "  <thead>\n",
       "    <tr style=\"text-align: right;\">\n",
       "      <th></th>\n",
       "      <th>Name</th>\n",
       "      <th>Age</th>\n",
       "    </tr>\n",
       "  </thead>\n",
       "  <tbody>\n",
       "    <tr>\n",
       "      <th>0</th>\n",
       "      <td>Ayo</td>\n",
       "      <td>10</td>\n",
       "    </tr>\n",
       "    <tr>\n",
       "      <th>1</th>\n",
       "      <td>Imran</td>\n",
       "      <td>15</td>\n",
       "    </tr>\n",
       "    <tr>\n",
       "      <th>2</th>\n",
       "      <td>Chucks</td>\n",
       "      <td>14</td>\n",
       "    </tr>\n",
       "  </tbody>\n",
       "</table>\n",
       "</div>"
      ],
      "text/plain": [
       "     Name  Age\n",
       "0     Ayo   10\n",
       "1   Imran   15\n",
       "2  Chucks   14"
      ]
     },
     "execution_count": 30,
     "metadata": {},
     "output_type": "execute_result"
    }
   ],
   "source": [
    "# initialize list of lists \n",
    "data = [['Ayo', 10], ['Imran', 15], ['Chucks', 14]] \n",
    "\n",
    "# Create the pandas DataFrame from the list and adding column headers\n",
    "df = pd.DataFrame(data, columns = ['Name', 'Age']) \n",
    "\n",
    "# print dataframe. \n",
    "df \n"
   ]
  },
  {
   "cell_type": "code",
   "execution_count": 31,
   "metadata": {},
   "outputs": [
    {
     "data": {
      "text/html": [
       "<div>\n",
       "<style scoped>\n",
       "    .dataframe tbody tr th:only-of-type {\n",
       "        vertical-align: middle;\n",
       "    }\n",
       "\n",
       "    .dataframe tbody tr th {\n",
       "        vertical-align: top;\n",
       "    }\n",
       "\n",
       "    .dataframe thead th {\n",
       "        text-align: right;\n",
       "    }\n",
       "</style>\n",
       "<table border=\"1\" class=\"dataframe\">\n",
       "  <thead>\n",
       "    <tr style=\"text-align: right;\">\n",
       "      <th></th>\n",
       "      <th>Age</th>\n",
       "      <th>Name</th>\n",
       "    </tr>\n",
       "  </thead>\n",
       "  <tbody>\n",
       "    <tr>\n",
       "      <th>0</th>\n",
       "      <td>10</td>\n",
       "      <td>Ayo</td>\n",
       "    </tr>\n",
       "    <tr>\n",
       "      <th>1</th>\n",
       "      <td>15</td>\n",
       "      <td>Imran</td>\n",
       "    </tr>\n",
       "    <tr>\n",
       "      <th>2</th>\n",
       "      <td>14</td>\n",
       "      <td>Chucks</td>\n",
       "    </tr>\n",
       "  </tbody>\n",
       "</table>\n",
       "</div>"
      ],
      "text/plain": [
       "   Age    Name\n",
       "0   10     Ayo\n",
       "1   15   Imran\n",
       "2   14  Chucks"
      ]
     },
     "execution_count": 31,
     "metadata": {},
     "output_type": "execute_result"
    }
   ],
   "source": [
    "# Create the pandas DataFrame from the dictionary of narray list\n",
    "#Example 1:\n",
    "# initialize list of lists \n",
    "data = {'Name': ['Ayo', 'Imran','Chucks'] ,'Age':[10, 15, 14]}\n",
    "\n",
    "# Create the pandas DataFrame from the list and adding column headers\n",
    "df = pd.DataFrame(data) \n",
    "\n",
    "# print dataframe. \n",
    "df \n"
   ]
  },
  {
   "cell_type": "code",
   "execution_count": 32,
   "metadata": {},
   "outputs": [
    {
     "data": {
      "text/html": [
       "<div>\n",
       "<style scoped>\n",
       "    .dataframe tbody tr th:only-of-type {\n",
       "        vertical-align: middle;\n",
       "    }\n",
       "\n",
       "    .dataframe tbody tr th {\n",
       "        vertical-align: top;\n",
       "    }\n",
       "\n",
       "    .dataframe thead th {\n",
       "        text-align: right;\n",
       "    }\n",
       "</style>\n",
       "<table border=\"1\" class=\"dataframe\">\n",
       "  <thead>\n",
       "    <tr style=\"text-align: right;\">\n",
       "      <th></th>\n",
       "      <th>Capital</th>\n",
       "      <th>State</th>\n",
       "      <th>area</th>\n",
       "      <th>population</th>\n",
       "    </tr>\n",
       "  </thead>\n",
       "  <tbody>\n",
       "    <tr>\n",
       "      <th>0</th>\n",
       "      <td>Umuahia</td>\n",
       "      <td>Abia</td>\n",
       "      <td>6320</td>\n",
       "      <td>2845380</td>\n",
       "    </tr>\n",
       "    <tr>\n",
       "      <th>1</th>\n",
       "      <td>Yola</td>\n",
       "      <td>Adamawa</td>\n",
       "      <td>36917</td>\n",
       "      <td>3178950</td>\n",
       "    </tr>\n",
       "    <tr>\n",
       "      <th>2</th>\n",
       "      <td>Ikeja</td>\n",
       "      <td>Lagos</td>\n",
       "      <td>3345</td>\n",
       "      <td>9113605</td>\n",
       "    </tr>\n",
       "    <tr>\n",
       "      <th>3</th>\n",
       "      <td>Osogbo</td>\n",
       "      <td>Osun</td>\n",
       "      <td>9251</td>\n",
       "      <td>3416959</td>\n",
       "    </tr>\n",
       "    <tr>\n",
       "      <th>4</th>\n",
       "      <td>Portharcourt</td>\n",
       "      <td>Rivers</td>\n",
       "      <td>11077</td>\n",
       "      <td>5198605</td>\n",
       "    </tr>\n",
       "  </tbody>\n",
       "</table>\n",
       "</div>"
      ],
      "text/plain": [
       "        Capital    State   area  population\n",
       "0       Umuahia     Abia   6320     2845380\n",
       "1          Yola  Adamawa  36917     3178950\n",
       "2         Ikeja    Lagos   3345     9113605\n",
       "3        Osogbo     Osun   9251     3416959\n",
       "4  Portharcourt   Rivers  11077     5198605"
      ]
     },
     "execution_count": 32,
     "metadata": {},
     "output_type": "execute_result"
    }
   ],
   "source": [
    "#Example 2:\n",
    "\n",
    "#Population and area (km/square) of some states in Nigeria and their capital\n",
    "\n",
    "dict_data = {\"State\": [\"Abia\", \"Adamawa\", \"Lagos\", \"Osun\", \"Rivers\"], \n",
    "       \"Capital\": [\"Umuahia\", \"Yola\", \"Ikeja\", \"Osogbo\", \"Portharcourt\"], \n",
    "       \"area\": [6320, 36917, 3345, 9251, 11077], \n",
    "       \"population\": [2845380, 3178950, 9113605, 3416959, 5198605] } \n",
    "  \n",
    "df = pd.DataFrame(dict_data) \n",
    "\n",
    "df "
   ]
  },
  {
   "cell_type": "code",
   "execution_count": 34,
   "metadata": {},
   "outputs": [
    {
     "data": {
      "text/plain": [
       "Capital       object\n",
       "State         object\n",
       "area           int64\n",
       "population     int64\n",
       "dtype: object"
      ]
     },
     "execution_count": 34,
     "metadata": {},
     "output_type": "execute_result"
    }
   ],
   "source": [
    "df.dtypes"
   ]
  },
  {
   "cell_type": "markdown",
   "metadata": {},
   "source": [
    "**ZIP**"
   ]
  },
  {
   "cell_type": "code",
   "execution_count": 35,
   "metadata": {},
   "outputs": [
    {
     "data": {
      "text/html": [
       "<div>\n",
       "<style scoped>\n",
       "    .dataframe tbody tr th:only-of-type {\n",
       "        vertical-align: middle;\n",
       "    }\n",
       "\n",
       "    .dataframe tbody tr th {\n",
       "        vertical-align: top;\n",
       "    }\n",
       "\n",
       "    .dataframe thead th {\n",
       "        text-align: right;\n",
       "    }\n",
       "</style>\n",
       "<table border=\"1\" class=\"dataframe\">\n",
       "  <thead>\n",
       "    <tr style=\"text-align: right;\">\n",
       "      <th></th>\n",
       "      <th>Name</th>\n",
       "      <th>Age</th>\n",
       "    </tr>\n",
       "  </thead>\n",
       "  <tbody>\n",
       "    <tr>\n",
       "      <th>0</th>\n",
       "      <td>Ayo</td>\n",
       "      <td>25</td>\n",
       "    </tr>\n",
       "    <tr>\n",
       "      <th>1</th>\n",
       "      <td>Imran</td>\n",
       "      <td>30</td>\n",
       "    </tr>\n",
       "    <tr>\n",
       "      <th>2</th>\n",
       "      <td>Chucks</td>\n",
       "      <td>26</td>\n",
       "    </tr>\n",
       "    <tr>\n",
       "      <th>3</th>\n",
       "      <td>judith</td>\n",
       "      <td>22</td>\n",
       "    </tr>\n",
       "  </tbody>\n",
       "</table>\n",
       "</div>"
      ],
      "text/plain": [
       "     Name  Age\n",
       "0     Ayo   25\n",
       "1   Imran   30\n",
       "2  Chucks   26\n",
       "3  judith   22"
      ]
     },
     "execution_count": 35,
     "metadata": {},
     "output_type": "execute_result"
    }
   ],
   "source": [
    "# pandas Datadaframe from lists using zip. \n",
    "\n",
    "# List1 \n",
    "Name = ['Ayo', 'Imran','Chucks', 'judith'] \n",
    "\n",
    "# List2 \n",
    "Age = [25, 30, 26, 22] \n",
    "\n",
    "# get the list of tuples from two list and merge them by using zip(). \n",
    "list_of_tuples = list(zip(Name, Age)) \n",
    "\n",
    "# Converting lists of tuples into pandas Dataframe. \n",
    "df = pd.DataFrame(list_of_tuples, columns = ['Name', 'Age']) \n",
    "\n",
    "# Print data. \n",
    "df \n"
   ]
  },
  {
   "cell_type": "markdown",
   "metadata": {},
   "source": [
    "**SERIES**\n",
    "\n",
    "A Series represents a single column in memory, which is either independent or belongs to a Pandas DataFrame."
   ]
  },
  {
   "cell_type": "code",
   "execution_count": 36,
   "metadata": {},
   "outputs": [
    {
     "data": {
      "text/html": [
       "<div>\n",
       "<style scoped>\n",
       "    .dataframe tbody tr th:only-of-type {\n",
       "        vertical-align: middle;\n",
       "    }\n",
       "\n",
       "    .dataframe tbody tr th {\n",
       "        vertical-align: top;\n",
       "    }\n",
       "\n",
       "    .dataframe thead th {\n",
       "        text-align: right;\n",
       "    }\n",
       "</style>\n",
       "<table border=\"1\" class=\"dataframe\">\n",
       "  <thead>\n",
       "    <tr style=\"text-align: right;\">\n",
       "      <th></th>\n",
       "      <th>Capital</th>\n",
       "      <th>State</th>\n",
       "      <th>area</th>\n",
       "      <th>population</th>\n",
       "    </tr>\n",
       "  </thead>\n",
       "  <tbody>\n",
       "    <tr>\n",
       "      <th>0</th>\n",
       "      <td>Umuahia</td>\n",
       "      <td>Abia</td>\n",
       "      <td>6320</td>\n",
       "      <td>2845380</td>\n",
       "    </tr>\n",
       "    <tr>\n",
       "      <th>1</th>\n",
       "      <td>Yola</td>\n",
       "      <td>Adamawa</td>\n",
       "      <td>36917</td>\n",
       "      <td>3178950</td>\n",
       "    </tr>\n",
       "    <tr>\n",
       "      <th>2</th>\n",
       "      <td>Ikeja</td>\n",
       "      <td>Lagos</td>\n",
       "      <td>3345</td>\n",
       "      <td>9113605</td>\n",
       "    </tr>\n",
       "    <tr>\n",
       "      <th>3</th>\n",
       "      <td>Osogbo</td>\n",
       "      <td>Osun</td>\n",
       "      <td>9251</td>\n",
       "      <td>3416959</td>\n",
       "    </tr>\n",
       "    <tr>\n",
       "      <th>4</th>\n",
       "      <td>Portharcourt</td>\n",
       "      <td>Rivers</td>\n",
       "      <td>11077</td>\n",
       "      <td>5198605</td>\n",
       "    </tr>\n",
       "  </tbody>\n",
       "</table>\n",
       "</div>"
      ],
      "text/plain": [
       "        Capital    State   area  population\n",
       "0       Umuahia     Abia   6320     2845380\n",
       "1          Yola  Adamawa  36917     3178950\n",
       "2         Ikeja    Lagos   3345     9113605\n",
       "3        Osogbo     Osun   9251     3416959\n",
       "4  Portharcourt   Rivers  11077     5198605"
      ]
     },
     "execution_count": 36,
     "metadata": {},
     "output_type": "execute_result"
    }
   ],
   "source": [
    "# Pandas Dataframe from Dicts of series. \n",
    "\n",
    "import pandas as pd \n",
    "\n",
    "# Intialise data to Dicts of series. \n",
    "series_data = {\"State\": pd.Series([\"Abia\", \"Adamawa\", \"Lagos\", \"Osun\", \"Rivers\"]), \n",
    "       \"Capital\": pd.Series([\"Umuahia\", \"Yola\", \"Ikeja\", \"Osogbo\", \"Portharcourt\"]), \n",
    "       \"area\": pd.Series([6320, 36917, 3345, 9251, 11077]), \n",
    "       \"population\": pd.Series([2845380, 3178950, 9113605, 3416959, 5198605]) } \n",
    "  \n",
    "# creates Dataframe. \n",
    "df = pd.DataFrame(series_data) \n",
    "\n",
    "# print the data. \n",
    "df \n"
   ]
  },
  {
   "cell_type": "markdown",
   "metadata": {},
   "source": [
    "### Creating a Series by converting a list, dictionary, array to a Series"
   ]
  },
  {
   "cell_type": "code",
   "execution_count": 2,
   "metadata": {},
   "outputs": [],
   "source": [
    "labels = ['a','b','c']\n",
    "my_list = [10,20,30]\n",
    "arr = np.array([10,20,30])\n",
    "d = {'a':10,'b':20, 'c':30}"
   ]
  },
  {
   "cell_type": "code",
   "execution_count": 3,
   "metadata": {},
   "outputs": [
    {
     "data": {
      "text/plain": [
       "[10, 20, 30]"
      ]
     },
     "execution_count": 3,
     "metadata": {},
     "output_type": "execute_result"
    }
   ],
   "source": [
    "my_list"
   ]
  },
  {
   "cell_type": "code",
   "execution_count": 4,
   "metadata": {},
   "outputs": [
    {
     "data": {
      "text/plain": [
       "0    10\n",
       "1    20\n",
       "2    30\n",
       "dtype: int64"
      ]
     },
     "execution_count": 4,
     "metadata": {},
     "output_type": "execute_result"
    }
   ],
   "source": [
    "pd.Series(data = my_list)"
   ]
  },
  {
   "cell_type": "code",
   "execution_count": 5,
   "metadata": {},
   "outputs": [
    {
     "data": {
      "text/plain": [
       "a    10\n",
       "b    20\n",
       "c    30\n",
       "dtype: int64"
      ]
     },
     "execution_count": 5,
     "metadata": {},
     "output_type": "execute_result"
    }
   ],
   "source": [
    "pd.Series(data=my_list, index = labels)"
   ]
  },
  {
   "cell_type": "code",
   "execution_count": 6,
   "metadata": {},
   "outputs": [
    {
     "data": {
      "text/plain": [
       "a    10\n",
       "b    20\n",
       "c    30\n",
       "dtype: int64"
      ]
     },
     "execution_count": 6,
     "metadata": {},
     "output_type": "execute_result"
    }
   ],
   "source": [
    "pd.Series(my_list, labels)"
   ]
  },
  {
   "cell_type": "code",
   "execution_count": 7,
   "metadata": {},
   "outputs": [
    {
     "data": {
      "text/plain": [
       "a    10\n",
       "b    20\n",
       "c    30\n",
       "dtype: int64"
      ]
     },
     "execution_count": 7,
     "metadata": {},
     "output_type": "execute_result"
    }
   ],
   "source": [
    "pd.Series(d)"
   ]
  },
  {
   "cell_type": "code",
   "execution_count": 8,
   "metadata": {},
   "outputs": [
    {
     "data": {
      "text/plain": [
       "0    a\n",
       "1    b\n",
       "2    c\n",
       "dtype: object"
      ]
     },
     "execution_count": 8,
     "metadata": {},
     "output_type": "execute_result"
    }
   ],
   "source": [
    "pd.Series(labels)"
   ]
  },
  {
   "cell_type": "code",
   "execution_count": 9,
   "metadata": {},
   "outputs": [
    {
     "data": {
      "text/plain": [
       "0    10\n",
       "1    20\n",
       "2    30\n",
       "dtype: int32"
      ]
     },
     "execution_count": 9,
     "metadata": {},
     "output_type": "execute_result"
    }
   ],
   "source": [
    "pd.Series(arr)"
   ]
  },
  {
   "cell_type": "code",
   "execution_count": 10,
   "metadata": {},
   "outputs": [
    {
     "data": {
      "text/plain": [
       "a    10\n",
       "b    20\n",
       "c    30\n",
       "dtype: int32"
      ]
     },
     "execution_count": 10,
     "metadata": {},
     "output_type": "execute_result"
    }
   ],
   "source": [
    "pd.Series(arr,labels)"
   ]
  },
  {
   "cell_type": "markdown",
   "metadata": {},
   "source": [
    "**External source -**\n",
    "\n",
    "**CSV** Another way to create a DataFrame is by importing a csv file using pd.read_csv\n",
    "\n"
   ]
  },
  {
   "cell_type": "code",
   "execution_count": 37,
   "metadata": {},
   "outputs": [
    {
     "data": {
      "text/html": [
       "<div>\n",
       "<style scoped>\n",
       "    .dataframe tbody tr th:only-of-type {\n",
       "        vertical-align: middle;\n",
       "    }\n",
       "\n",
       "    .dataframe tbody tr th {\n",
       "        vertical-align: top;\n",
       "    }\n",
       "\n",
       "    .dataframe thead th {\n",
       "        text-align: right;\n",
       "    }\n",
       "</style>\n",
       "<table border=\"1\" class=\"dataframe\">\n",
       "  <thead>\n",
       "    <tr style=\"text-align: right;\">\n",
       "      <th></th>\n",
       "      <th>STATES</th>\n",
       "      <th>AREA (km2)</th>\n",
       "      <th>Population</th>\n",
       "    </tr>\n",
       "  </thead>\n",
       "  <tbody>\n",
       "    <tr>\n",
       "      <th>0</th>\n",
       "      <td>Abia State</td>\n",
       "      <td>6320</td>\n",
       "      <td>2845380</td>\n",
       "    </tr>\n",
       "    <tr>\n",
       "      <th>1</th>\n",
       "      <td>Adamawa State</td>\n",
       "      <td>36917</td>\n",
       "      <td>3178950</td>\n",
       "    </tr>\n",
       "    <tr>\n",
       "      <th>2</th>\n",
       "      <td>Akwa Ibom State</td>\n",
       "      <td>7081</td>\n",
       "      <td>3178950</td>\n",
       "    </tr>\n",
       "    <tr>\n",
       "      <th>3</th>\n",
       "      <td>Anambra State</td>\n",
       "      <td>4844</td>\n",
       "      <td>4177828</td>\n",
       "    </tr>\n",
       "    <tr>\n",
       "      <th>4</th>\n",
       "      <td>Bauchi State</td>\n",
       "      <td>45837</td>\n",
       "      <td>4653066</td>\n",
       "    </tr>\n",
       "    <tr>\n",
       "      <th>5</th>\n",
       "      <td>Bayelsa State</td>\n",
       "      <td>10773</td>\n",
       "      <td>1704515</td>\n",
       "    </tr>\n",
       "    <tr>\n",
       "      <th>6</th>\n",
       "      <td>Benue State</td>\n",
       "      <td>34059</td>\n",
       "      <td>4253641</td>\n",
       "    </tr>\n",
       "    <tr>\n",
       "      <th>7</th>\n",
       "      <td>Borno State</td>\n",
       "      <td>70898</td>\n",
       "      <td>4171104</td>\n",
       "    </tr>\n",
       "    <tr>\n",
       "      <th>8</th>\n",
       "      <td>Cross River</td>\n",
       "      <td>20156</td>\n",
       "      <td>2892988</td>\n",
       "    </tr>\n",
       "    <tr>\n",
       "      <th>9</th>\n",
       "      <td>Delta State</td>\n",
       "      <td>17698</td>\n",
       "      <td>4112445</td>\n",
       "    </tr>\n",
       "    <tr>\n",
       "      <th>10</th>\n",
       "      <td>Ebonyi State</td>\n",
       "      <td>5670</td>\n",
       "      <td>2176947</td>\n",
       "    </tr>\n",
       "    <tr>\n",
       "      <th>11</th>\n",
       "      <td>Edo State</td>\n",
       "      <td>17802</td>\n",
       "      <td>3233366</td>\n",
       "    </tr>\n",
       "    <tr>\n",
       "      <th>12</th>\n",
       "      <td>Ekiti State</td>\n",
       "      <td>6353</td>\n",
       "      <td>2398957</td>\n",
       "    </tr>\n",
       "    <tr>\n",
       "      <th>13</th>\n",
       "      <td>Enugu State</td>\n",
       "      <td>7161</td>\n",
       "      <td>3267837</td>\n",
       "    </tr>\n",
       "    <tr>\n",
       "      <th>14</th>\n",
       "      <td>FCT</td>\n",
       "      <td>7315</td>\n",
       "      <td>1405201</td>\n",
       "    </tr>\n",
       "    <tr>\n",
       "      <th>15</th>\n",
       "      <td>Gombe State</td>\n",
       "      <td>18768</td>\n",
       "      <td>2365040</td>\n",
       "    </tr>\n",
       "    <tr>\n",
       "      <th>16</th>\n",
       "      <td>Imo State</td>\n",
       "      <td>5530</td>\n",
       "      <td>3927563</td>\n",
       "    </tr>\n",
       "    <tr>\n",
       "      <th>17</th>\n",
       "      <td>Jigawa State</td>\n",
       "      <td>23154</td>\n",
       "      <td>4361002</td>\n",
       "    </tr>\n",
       "    <tr>\n",
       "      <th>18</th>\n",
       "      <td>Kaduna State</td>\n",
       "      <td>46053</td>\n",
       "      <td>6113503</td>\n",
       "    </tr>\n",
       "    <tr>\n",
       "      <th>19</th>\n",
       "      <td>Kano State</td>\n",
       "      <td>20131</td>\n",
       "      <td>9401288</td>\n",
       "    </tr>\n",
       "    <tr>\n",
       "      <th>20</th>\n",
       "      <td>Katsina State</td>\n",
       "      <td>24192</td>\n",
       "      <td>5801584</td>\n",
       "    </tr>\n",
       "    <tr>\n",
       "      <th>21</th>\n",
       "      <td>Kebbi State</td>\n",
       "      <td>36800</td>\n",
       "      <td>3256541</td>\n",
       "    </tr>\n",
       "    <tr>\n",
       "      <th>22</th>\n",
       "      <td>Kogi State</td>\n",
       "      <td>29833</td>\n",
       "      <td>3314043</td>\n",
       "    </tr>\n",
       "    <tr>\n",
       "      <th>23</th>\n",
       "      <td>Kwara State</td>\n",
       "      <td>36825</td>\n",
       "      <td>2365353</td>\n",
       "    </tr>\n",
       "    <tr>\n",
       "      <th>24</th>\n",
       "      <td>Lagos State</td>\n",
       "      <td>3345</td>\n",
       "      <td>9113605</td>\n",
       "    </tr>\n",
       "    <tr>\n",
       "      <th>25</th>\n",
       "      <td>Nasarawa State</td>\n",
       "      <td>27117</td>\n",
       "      <td>1869377</td>\n",
       "    </tr>\n",
       "    <tr>\n",
       "      <th>26</th>\n",
       "      <td>Niger State</td>\n",
       "      <td>76363</td>\n",
       "      <td>3954772</td>\n",
       "    </tr>\n",
       "    <tr>\n",
       "      <th>27</th>\n",
       "      <td>Ogun State</td>\n",
       "      <td>16762</td>\n",
       "      <td>3751140</td>\n",
       "    </tr>\n",
       "    <tr>\n",
       "      <th>28</th>\n",
       "      <td>Ondo State</td>\n",
       "      <td>15500</td>\n",
       "      <td>3460877</td>\n",
       "    </tr>\n",
       "    <tr>\n",
       "      <th>29</th>\n",
       "      <td>Osun State</td>\n",
       "      <td>9251</td>\n",
       "      <td>3416959</td>\n",
       "    </tr>\n",
       "    <tr>\n",
       "      <th>30</th>\n",
       "      <td>Oyo State</td>\n",
       "      <td>28454</td>\n",
       "      <td>5580894</td>\n",
       "    </tr>\n",
       "    <tr>\n",
       "      <th>31</th>\n",
       "      <td>Plateau State</td>\n",
       "      <td>30913</td>\n",
       "      <td>3206531</td>\n",
       "    </tr>\n",
       "    <tr>\n",
       "      <th>32</th>\n",
       "      <td>Rivers State</td>\n",
       "      <td>11077</td>\n",
       "      <td>5198605</td>\n",
       "    </tr>\n",
       "    <tr>\n",
       "      <th>33</th>\n",
       "      <td>Sokoto State</td>\n",
       "      <td>25973</td>\n",
       "      <td>3702676</td>\n",
       "    </tr>\n",
       "    <tr>\n",
       "      <th>34</th>\n",
       "      <td>Taraba State</td>\n",
       "      <td>54473</td>\n",
       "      <td>2294800</td>\n",
       "    </tr>\n",
       "    <tr>\n",
       "      <th>35</th>\n",
       "      <td>Yobe State</td>\n",
       "      <td>45502</td>\n",
       "      <td>2321339</td>\n",
       "    </tr>\n",
       "    <tr>\n",
       "      <th>36</th>\n",
       "      <td>Zamfara State</td>\n",
       "      <td>39762</td>\n",
       "      <td>3278873</td>\n",
       "    </tr>\n",
       "  </tbody>\n",
       "</table>\n",
       "</div>"
      ],
      "text/plain": [
       "             STATES  AREA (km2)   Population\n",
       "0        Abia State         6320     2845380\n",
       "1     Adamawa State        36917     3178950\n",
       "2   Akwa Ibom State         7081     3178950\n",
       "3     Anambra State         4844     4177828\n",
       "4      Bauchi State        45837     4653066\n",
       "5     Bayelsa State        10773     1704515\n",
       "6       Benue State        34059     4253641\n",
       "7       Borno State        70898     4171104\n",
       "8       Cross River        20156     2892988\n",
       "9       Delta State        17698     4112445\n",
       "10     Ebonyi State         5670     2176947\n",
       "11        Edo State        17802     3233366\n",
       "12      Ekiti State         6353     2398957\n",
       "13      Enugu State         7161     3267837\n",
       "14              FCT         7315     1405201\n",
       "15      Gombe State        18768     2365040\n",
       "16        Imo State         5530     3927563\n",
       "17     Jigawa State        23154     4361002\n",
       "18     Kaduna State        46053     6113503\n",
       "19       Kano State        20131     9401288\n",
       "20    Katsina State        24192     5801584\n",
       "21      Kebbi State        36800     3256541\n",
       "22       Kogi State        29833     3314043\n",
       "23      Kwara State        36825     2365353\n",
       "24      Lagos State         3345     9113605\n",
       "25   Nasarawa State        27117     1869377\n",
       "26      Niger State        76363     3954772\n",
       "27       Ogun State        16762     3751140\n",
       "28       Ondo State        15500     3460877\n",
       "29       Osun State         9251     3416959\n",
       "30        Oyo State        28454     5580894\n",
       "31    Plateau State        30913     3206531\n",
       "32     Rivers State        11077     5198605\n",
       "33     Sokoto State        25973     3702676\n",
       "34     Taraba State        54473     2294800\n",
       "35       Yobe State        45502     2321339\n",
       "36    Zamfara State        39762     3278873"
      ]
     },
     "execution_count": 37,
     "metadata": {},
     "output_type": "execute_result"
    }
   ],
   "source": [
    "csv_df = pd.read_csv('Data/2006.csv')\n",
    "\n",
    "csv_df"
   ]
  },
  {
   "cell_type": "markdown",
   "metadata": {},
   "source": [
    "**EXCEL- XLSX**"
   ]
  },
  {
   "cell_type": "code",
   "execution_count": 38,
   "metadata": {},
   "outputs": [
    {
     "data": {
      "text/html": [
       "<div>\n",
       "<style scoped>\n",
       "    .dataframe tbody tr th:only-of-type {\n",
       "        vertical-align: middle;\n",
       "    }\n",
       "\n",
       "    .dataframe tbody tr th {\n",
       "        vertical-align: top;\n",
       "    }\n",
       "\n",
       "    .dataframe thead th {\n",
       "        text-align: right;\n",
       "    }\n",
       "</style>\n",
       "<table border=\"1\" class=\"dataframe\">\n",
       "  <thead>\n",
       "    <tr style=\"text-align: right;\">\n",
       "      <th></th>\n",
       "      <th>STATES</th>\n",
       "      <th>AREA (km2)</th>\n",
       "      <th>Population</th>\n",
       "    </tr>\n",
       "  </thead>\n",
       "  <tbody>\n",
       "    <tr>\n",
       "      <th>0</th>\n",
       "      <td>Abia State</td>\n",
       "      <td>6320</td>\n",
       "      <td>2845380</td>\n",
       "    </tr>\n",
       "    <tr>\n",
       "      <th>1</th>\n",
       "      <td>Adamawa State</td>\n",
       "      <td>36917</td>\n",
       "      <td>3178950</td>\n",
       "    </tr>\n",
       "    <tr>\n",
       "      <th>2</th>\n",
       "      <td>Akwa Ibom State</td>\n",
       "      <td>7081</td>\n",
       "      <td>3178950</td>\n",
       "    </tr>\n",
       "    <tr>\n",
       "      <th>3</th>\n",
       "      <td>Anambra State</td>\n",
       "      <td>4844</td>\n",
       "      <td>4177828</td>\n",
       "    </tr>\n",
       "    <tr>\n",
       "      <th>4</th>\n",
       "      <td>Bauchi State</td>\n",
       "      <td>45837</td>\n",
       "      <td>4653066</td>\n",
       "    </tr>\n",
       "    <tr>\n",
       "      <th>5</th>\n",
       "      <td>Bayelsa State</td>\n",
       "      <td>10773</td>\n",
       "      <td>1704515</td>\n",
       "    </tr>\n",
       "    <tr>\n",
       "      <th>6</th>\n",
       "      <td>Benue State</td>\n",
       "      <td>34059</td>\n",
       "      <td>4253641</td>\n",
       "    </tr>\n",
       "    <tr>\n",
       "      <th>7</th>\n",
       "      <td>Borno State</td>\n",
       "      <td>70898</td>\n",
       "      <td>4171104</td>\n",
       "    </tr>\n",
       "    <tr>\n",
       "      <th>8</th>\n",
       "      <td>Cross River</td>\n",
       "      <td>20156</td>\n",
       "      <td>2892988</td>\n",
       "    </tr>\n",
       "    <tr>\n",
       "      <th>9</th>\n",
       "      <td>Delta State</td>\n",
       "      <td>17698</td>\n",
       "      <td>4112445</td>\n",
       "    </tr>\n",
       "    <tr>\n",
       "      <th>10</th>\n",
       "      <td>Ebonyi State</td>\n",
       "      <td>5670</td>\n",
       "      <td>2176947</td>\n",
       "    </tr>\n",
       "    <tr>\n",
       "      <th>11</th>\n",
       "      <td>Edo State</td>\n",
       "      <td>17802</td>\n",
       "      <td>3233366</td>\n",
       "    </tr>\n",
       "    <tr>\n",
       "      <th>12</th>\n",
       "      <td>Ekiti State</td>\n",
       "      <td>6353</td>\n",
       "      <td>2398957</td>\n",
       "    </tr>\n",
       "    <tr>\n",
       "      <th>13</th>\n",
       "      <td>Enugu State</td>\n",
       "      <td>7161</td>\n",
       "      <td>3267837</td>\n",
       "    </tr>\n",
       "    <tr>\n",
       "      <th>14</th>\n",
       "      <td>FCT</td>\n",
       "      <td>7315</td>\n",
       "      <td>1405201</td>\n",
       "    </tr>\n",
       "    <tr>\n",
       "      <th>15</th>\n",
       "      <td>Gombe State</td>\n",
       "      <td>18768</td>\n",
       "      <td>2365040</td>\n",
       "    </tr>\n",
       "    <tr>\n",
       "      <th>16</th>\n",
       "      <td>Imo State</td>\n",
       "      <td>5530</td>\n",
       "      <td>3927563</td>\n",
       "    </tr>\n",
       "    <tr>\n",
       "      <th>17</th>\n",
       "      <td>Jigawa State</td>\n",
       "      <td>23154</td>\n",
       "      <td>4361002</td>\n",
       "    </tr>\n",
       "    <tr>\n",
       "      <th>18</th>\n",
       "      <td>Kaduna State</td>\n",
       "      <td>46053</td>\n",
       "      <td>6113503</td>\n",
       "    </tr>\n",
       "    <tr>\n",
       "      <th>19</th>\n",
       "      <td>Kano State</td>\n",
       "      <td>20131</td>\n",
       "      <td>9401288</td>\n",
       "    </tr>\n",
       "    <tr>\n",
       "      <th>20</th>\n",
       "      <td>Katsina State</td>\n",
       "      <td>24192</td>\n",
       "      <td>5801584</td>\n",
       "    </tr>\n",
       "    <tr>\n",
       "      <th>21</th>\n",
       "      <td>Kebbi State</td>\n",
       "      <td>36800</td>\n",
       "      <td>3256541</td>\n",
       "    </tr>\n",
       "    <tr>\n",
       "      <th>22</th>\n",
       "      <td>Kogi State</td>\n",
       "      <td>29833</td>\n",
       "      <td>3314043</td>\n",
       "    </tr>\n",
       "    <tr>\n",
       "      <th>23</th>\n",
       "      <td>Kwara State</td>\n",
       "      <td>36825</td>\n",
       "      <td>2365353</td>\n",
       "    </tr>\n",
       "    <tr>\n",
       "      <th>24</th>\n",
       "      <td>Lagos State</td>\n",
       "      <td>3345</td>\n",
       "      <td>9113605</td>\n",
       "    </tr>\n",
       "    <tr>\n",
       "      <th>25</th>\n",
       "      <td>Nasarawa State</td>\n",
       "      <td>27117</td>\n",
       "      <td>1869377</td>\n",
       "    </tr>\n",
       "    <tr>\n",
       "      <th>26</th>\n",
       "      <td>Niger State</td>\n",
       "      <td>76363</td>\n",
       "      <td>3954772</td>\n",
       "    </tr>\n",
       "    <tr>\n",
       "      <th>27</th>\n",
       "      <td>Ogun State</td>\n",
       "      <td>16762</td>\n",
       "      <td>3751140</td>\n",
       "    </tr>\n",
       "    <tr>\n",
       "      <th>28</th>\n",
       "      <td>Ondo State</td>\n",
       "      <td>15500</td>\n",
       "      <td>3460877</td>\n",
       "    </tr>\n",
       "    <tr>\n",
       "      <th>29</th>\n",
       "      <td>Osun State</td>\n",
       "      <td>9251</td>\n",
       "      <td>3416959</td>\n",
       "    </tr>\n",
       "    <tr>\n",
       "      <th>30</th>\n",
       "      <td>Oyo State</td>\n",
       "      <td>28454</td>\n",
       "      <td>5580894</td>\n",
       "    </tr>\n",
       "    <tr>\n",
       "      <th>31</th>\n",
       "      <td>Plateau State</td>\n",
       "      <td>30913</td>\n",
       "      <td>3206531</td>\n",
       "    </tr>\n",
       "    <tr>\n",
       "      <th>32</th>\n",
       "      <td>Rivers State</td>\n",
       "      <td>11077</td>\n",
       "      <td>5198605</td>\n",
       "    </tr>\n",
       "    <tr>\n",
       "      <th>33</th>\n",
       "      <td>Sokoto State</td>\n",
       "      <td>25973</td>\n",
       "      <td>3702676</td>\n",
       "    </tr>\n",
       "    <tr>\n",
       "      <th>34</th>\n",
       "      <td>Taraba State</td>\n",
       "      <td>54473</td>\n",
       "      <td>2294800</td>\n",
       "    </tr>\n",
       "    <tr>\n",
       "      <th>35</th>\n",
       "      <td>Yobe State</td>\n",
       "      <td>45502</td>\n",
       "      <td>2321339</td>\n",
       "    </tr>\n",
       "    <tr>\n",
       "      <th>36</th>\n",
       "      <td>Zamfara State</td>\n",
       "      <td>39762</td>\n",
       "      <td>3278873</td>\n",
       "    </tr>\n",
       "  </tbody>\n",
       "</table>\n",
       "</div>"
      ],
      "text/plain": [
       "             STATES  AREA (km2)   Population\n",
       "0        Abia State         6320     2845380\n",
       "1     Adamawa State        36917     3178950\n",
       "2   Akwa Ibom State         7081     3178950\n",
       "3     Anambra State         4844     4177828\n",
       "4      Bauchi State        45837     4653066\n",
       "5     Bayelsa State        10773     1704515\n",
       "6       Benue State        34059     4253641\n",
       "7       Borno State        70898     4171104\n",
       "8       Cross River        20156     2892988\n",
       "9       Delta State        17698     4112445\n",
       "10     Ebonyi State         5670     2176947\n",
       "11        Edo State        17802     3233366\n",
       "12      Ekiti State         6353     2398957\n",
       "13      Enugu State         7161     3267837\n",
       "14              FCT         7315     1405201\n",
       "15      Gombe State        18768     2365040\n",
       "16        Imo State         5530     3927563\n",
       "17     Jigawa State        23154     4361002\n",
       "18     Kaduna State        46053     6113503\n",
       "19       Kano State        20131     9401288\n",
       "20    Katsina State        24192     5801584\n",
       "21      Kebbi State        36800     3256541\n",
       "22       Kogi State        29833     3314043\n",
       "23      Kwara State        36825     2365353\n",
       "24      Lagos State         3345     9113605\n",
       "25   Nasarawa State        27117     1869377\n",
       "26      Niger State        76363     3954772\n",
       "27       Ogun State        16762     3751140\n",
       "28       Ondo State        15500     3460877\n",
       "29       Osun State         9251     3416959\n",
       "30        Oyo State        28454     5580894\n",
       "31    Plateau State        30913     3206531\n",
       "32     Rivers State        11077     5198605\n",
       "33     Sokoto State        25973     3702676\n",
       "34     Taraba State        54473     2294800\n",
       "35       Yobe State        45502     2321339\n",
       "36    Zamfara State        39762     3278873"
      ]
     },
     "execution_count": 38,
     "metadata": {},
     "output_type": "execute_result"
    }
   ],
   "source": [
    "Excel_df = pd.read_excel('Data/2006.xlsx')\n",
    "\n",
    "Excel_df"
   ]
  },
  {
   "cell_type": "code",
   "execution_count": 39,
   "metadata": {},
   "outputs": [
    {
     "name": "stdout",
     "output_type": "stream",
     "text": [
      "            STATES  AREA (km2)   Population\n",
      "0       Abia State         6320     2845380\n",
      "1    Adamawa State        36917     3178950\n",
      "2  Akwa Ibom State         7081     3178950\n",
      "3    Anambra State         4844     4177828\n",
      "4     Bauchi State        45837     4653066 \n",
      "\n",
      "0    2845380\n",
      "1    3178950\n",
      "2    3178950\n",
      "3    4177828\n",
      "4    4653066\n",
      "Name: Population, dtype: int64\n"
     ]
    }
   ],
   "source": [
    "#By default, if no length is specified, it returns the first 5 rows\n",
    "print(csv_df.head(), '\\n')\n",
    "\n",
    "#This returns the first 5 rows in Population Column\n",
    "print(csv_df['Population'].head())"
   ]
  },
  {
   "cell_type": "code",
   "execution_count": 40,
   "metadata": {},
   "outputs": [
    {
     "name": "stdout",
     "output_type": "stream",
     "text": [
      "           STATES  AREA (km2)   Population\n",
      "32   Rivers State        11077     5198605\n",
      "33   Sokoto State        25973     3702676\n",
      "34   Taraba State        54473     2294800\n",
      "35     Yobe State        45502     2321339\n",
      "36  Zamfara State        39762     3278873 \n",
      "\n",
      "32    5198605\n",
      "33    3702676\n",
      "34    2294800\n",
      "35    2321339\n",
      "36    3278873\n",
      "Name: Population, dtype: int64\n"
     ]
    }
   ],
   "source": [
    "#By default, if no length is specified, it returns the last 5 rows\n",
    "print(csv_df.tail(), '\\n')\n",
    "\n",
    "#This returns the last 5 rows in Population Column\n",
    "print(csv_df['Population'].tail())"
   ]
  },
  {
   "cell_type": "code",
   "execution_count": 41,
   "metadata": {},
   "outputs": [
    {
     "data": {
      "text/html": [
       "<div>\n",
       "<style scoped>\n",
       "    .dataframe tbody tr th:only-of-type {\n",
       "        vertical-align: middle;\n",
       "    }\n",
       "\n",
       "    .dataframe tbody tr th {\n",
       "        vertical-align: top;\n",
       "    }\n",
       "\n",
       "    .dataframe thead th {\n",
       "        text-align: right;\n",
       "    }\n",
       "</style>\n",
       "<table border=\"1\" class=\"dataframe\">\n",
       "  <thead>\n",
       "    <tr style=\"text-align: right;\">\n",
       "      <th></th>\n",
       "      <th>AREA (km2)</th>\n",
       "      <th>Population</th>\n",
       "    </tr>\n",
       "  </thead>\n",
       "  <tbody>\n",
       "    <tr>\n",
       "      <th>count</th>\n",
       "      <td>37.000000</td>\n",
       "      <td>3.700000e+01</td>\n",
       "    </tr>\n",
       "    <tr>\n",
       "      <th>mean</th>\n",
       "      <td>24990.864865</td>\n",
       "      <td>3.775879e+06</td>\n",
       "    </tr>\n",
       "    <tr>\n",
       "      <th>std</th>\n",
       "      <td>18243.870444</td>\n",
       "      <td>1.726418e+06</td>\n",
       "    </tr>\n",
       "    <tr>\n",
       "      <th>min</th>\n",
       "      <td>3345.000000</td>\n",
       "      <td>1.405201e+06</td>\n",
       "    </tr>\n",
       "    <tr>\n",
       "      <th>25%</th>\n",
       "      <td>9251.000000</td>\n",
       "      <td>2.845380e+06</td>\n",
       "    </tr>\n",
       "    <tr>\n",
       "      <th>50%</th>\n",
       "      <td>20156.000000</td>\n",
       "      <td>3.314043e+06</td>\n",
       "    </tr>\n",
       "    <tr>\n",
       "      <th>75%</th>\n",
       "      <td>36800.000000</td>\n",
       "      <td>4.177828e+06</td>\n",
       "    </tr>\n",
       "    <tr>\n",
       "      <th>max</th>\n",
       "      <td>76363.000000</td>\n",
       "      <td>9.401288e+06</td>\n",
       "    </tr>\n",
       "  </tbody>\n",
       "</table>\n",
       "</div>"
      ],
      "text/plain": [
       "        AREA (km2)     Population\n",
       "count     37.000000  3.700000e+01\n",
       "mean   24990.864865  3.775879e+06\n",
       "std    18243.870444  1.726418e+06\n",
       "min     3345.000000  1.405201e+06\n",
       "25%     9251.000000  2.845380e+06\n",
       "50%    20156.000000  3.314043e+06\n",
       "75%    36800.000000  4.177828e+06\n",
       "max    76363.000000  9.401288e+06"
      ]
     },
     "execution_count": 41,
     "metadata": {},
     "output_type": "execute_result"
    }
   ],
   "source": [
    "#For summary of descriptive statistics of the dataframe\n",
    "csv_df.describe()"
   ]
  },
  {
   "cell_type": "code",
   "execution_count": 42,
   "metadata": {},
   "outputs": [
    {
     "data": {
      "text/html": [
       "<div>\n",
       "<style scoped>\n",
       "    .dataframe tbody tr th:only-of-type {\n",
       "        vertical-align: middle;\n",
       "    }\n",
       "\n",
       "    .dataframe tbody tr th {\n",
       "        vertical-align: top;\n",
       "    }\n",
       "\n",
       "    .dataframe thead th {\n",
       "        text-align: right;\n",
       "    }\n",
       "</style>\n",
       "<table border=\"1\" class=\"dataframe\">\n",
       "  <thead>\n",
       "    <tr style=\"text-align: right;\">\n",
       "      <th></th>\n",
       "      <th>STATES</th>\n",
       "      <th>AREA (km2)</th>\n",
       "      <th>Population</th>\n",
       "    </tr>\n",
       "  </thead>\n",
       "  <tbody>\n",
       "    <tr>\n",
       "      <th>count</th>\n",
       "      <td>37</td>\n",
       "      <td>37.000000</td>\n",
       "      <td>3.700000e+01</td>\n",
       "    </tr>\n",
       "    <tr>\n",
       "      <th>unique</th>\n",
       "      <td>37</td>\n",
       "      <td>NaN</td>\n",
       "      <td>NaN</td>\n",
       "    </tr>\n",
       "    <tr>\n",
       "      <th>top</th>\n",
       "      <td>Ekiti State</td>\n",
       "      <td>NaN</td>\n",
       "      <td>NaN</td>\n",
       "    </tr>\n",
       "    <tr>\n",
       "      <th>freq</th>\n",
       "      <td>1</td>\n",
       "      <td>NaN</td>\n",
       "      <td>NaN</td>\n",
       "    </tr>\n",
       "    <tr>\n",
       "      <th>mean</th>\n",
       "      <td>NaN</td>\n",
       "      <td>24990.864865</td>\n",
       "      <td>3.775879e+06</td>\n",
       "    </tr>\n",
       "    <tr>\n",
       "      <th>std</th>\n",
       "      <td>NaN</td>\n",
       "      <td>18243.870444</td>\n",
       "      <td>1.726418e+06</td>\n",
       "    </tr>\n",
       "    <tr>\n",
       "      <th>min</th>\n",
       "      <td>NaN</td>\n",
       "      <td>3345.000000</td>\n",
       "      <td>1.405201e+06</td>\n",
       "    </tr>\n",
       "    <tr>\n",
       "      <th>25%</th>\n",
       "      <td>NaN</td>\n",
       "      <td>9251.000000</td>\n",
       "      <td>2.845380e+06</td>\n",
       "    </tr>\n",
       "    <tr>\n",
       "      <th>50%</th>\n",
       "      <td>NaN</td>\n",
       "      <td>20156.000000</td>\n",
       "      <td>3.314043e+06</td>\n",
       "    </tr>\n",
       "    <tr>\n",
       "      <th>75%</th>\n",
       "      <td>NaN</td>\n",
       "      <td>36800.000000</td>\n",
       "      <td>4.177828e+06</td>\n",
       "    </tr>\n",
       "    <tr>\n",
       "      <th>max</th>\n",
       "      <td>NaN</td>\n",
       "      <td>76363.000000</td>\n",
       "      <td>9.401288e+06</td>\n",
       "    </tr>\n",
       "  </tbody>\n",
       "</table>\n",
       "</div>"
      ],
      "text/plain": [
       "             STATES   AREA (km2)     Population\n",
       "count            37     37.000000  3.700000e+01\n",
       "unique           37           NaN           NaN\n",
       "top     Ekiti State           NaN           NaN\n",
       "freq              1           NaN           NaN\n",
       "mean            NaN  24990.864865  3.775879e+06\n",
       "std             NaN  18243.870444  1.726418e+06\n",
       "min             NaN   3345.000000  1.405201e+06\n",
       "25%             NaN   9251.000000  2.845380e+06\n",
       "50%             NaN  20156.000000  3.314043e+06\n",
       "75%             NaN  36800.000000  4.177828e+06\n",
       "max             NaN  76363.000000  9.401288e+06"
      ]
     },
     "execution_count": 42,
     "metadata": {},
     "output_type": "execute_result"
    }
   ],
   "source": [
    "#To include summary of descriptive statistics of non numeric columns of the dataframe \n",
    "csv_df.describe(include='all')"
   ]
  },
  {
   "cell_type": "code",
   "execution_count": 43,
   "metadata": {},
   "outputs": [
    {
     "data": {
      "text/plain": [
       "3775879.4594594594"
      ]
     },
     "execution_count": 43,
     "metadata": {},
     "output_type": "execute_result"
    }
   ],
   "source": [
    "csv_df['Population'].mean()"
   ]
  },
  {
   "cell_type": "markdown",
   "metadata": {},
   "source": [
    "Other descriptive statistics functions are:\n",
    "\n",
    "* count()\tNumber of non-null observations\n",
    "* sum()\tSum of values\n",
    "* mean()\tMean of Values\n",
    "* median()\tMedian of Values\n",
    "* mode()\tMode of values\n",
    "* std()\tStandard Deviation of the Values\n",
    "* min()\tMinimum Value\n",
    "* max()\tMaximum Value\n",
    "* abs()\tAbsolute Value\n",
    "* prod()\tProduct of Values\n",
    "* cumsum()\tCumulative Sum\n",
    "* cumprod()\tCumulative Product\n",
    "\n",
    ">Note: Functions like abs(), cumprod() throw exception when the DataFrame contains character or string data because such operations cannot be performed."
   ]
  },
  {
   "cell_type": "code",
   "execution_count": 44,
   "metadata": {},
   "outputs": [
    {
     "data": {
      "text/plain": [
       "Index(['STATES', 'AREA (km2) ', 'Population'], dtype='object')"
      ]
     },
     "execution_count": 44,
     "metadata": {},
     "output_type": "execute_result"
    }
   ],
   "source": [
    "#To show the features in the dataset\n",
    "csv_df.columns"
   ]
  },
  {
   "cell_type": "code",
   "execution_count": 45,
   "metadata": {},
   "outputs": [
    {
     "name": "stdout",
     "output_type": "stream",
     "text": [
      "<class 'pandas.core.frame.DataFrame'>\n",
      "RangeIndex: 37 entries, 0 to 36\n",
      "Data columns (total 3 columns):\n",
      "STATES         37 non-null object\n",
      "AREA (km2)     37 non-null int64\n",
      "Population     37 non-null int64\n",
      "dtypes: int64(2), object(1)\n",
      "memory usage: 968.0+ bytes\n"
     ]
    }
   ],
   "source": [
    "#To show even more information about the dataset\n",
    "\n",
    "csv_df.info()"
   ]
  },
  {
   "cell_type": "markdown",
   "metadata": {},
   "source": [
    "### HTML"
   ]
  },
  {
   "cell_type": "code",
   "execution_count": 12,
   "metadata": {},
   "outputs": [],
   "source": [
    "# data = pd.read_html(\"url\") # This is to read an html file"
   ]
  },
  {
   "cell_type": "markdown",
   "metadata": {},
   "source": [
    "#### Data Output\n"
   ]
  },
  {
   "cell_type": "code",
   "execution_count": 13,
   "metadata": {},
   "outputs": [],
   "source": [
    "# data.to_csv(\"My Output\",)"
   ]
  },
  {
   "cell_type": "markdown",
   "metadata": {},
   "source": [
    "for further reading:\n",
    "    \n",
    "https://pbpython.com/pandas_dtypes.html\n",
    "\n",
    "https://en.wikipedia.org/wiki/Matrix_(mathematics)\n",
    "\n",
    "https://www.geeksforgeeks.org/best-python-libraries-for-machine-learning/"
   ]
  },
  {
   "cell_type": "code",
   "execution_count": null,
   "metadata": {},
   "outputs": [],
   "source": []
  }
 ],
 "metadata": {
  "kernelspec": {
   "display_name": "Python 3 (ipykernel)",
   "language": "python",
   "name": "python3"
  },
  "language_info": {
   "codemirror_mode": {
    "name": "ipython",
    "version": 3
   },
   "file_extension": ".py",
   "mimetype": "text/x-python",
   "name": "python",
   "nbconvert_exporter": "python",
   "pygments_lexer": "ipython3",
   "version": "3.10.9"
  }
 },
 "nbformat": 4,
 "nbformat_minor": 2
}
